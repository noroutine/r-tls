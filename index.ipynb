{
 "cells": [
  {
   "cell_type": "markdown",
   "metadata": {},
   "source": [
    "R Code pulled from https://www.statmethods.net/advgraphs/ggplot2.html"
   ]
  },
  {
   "cell_type": "code",
   "execution_count": 1,
   "metadata": {},
   "outputs": [
    {
     "name": "stdout",
     "output_type": "stream",
     "text": [
      "CURL_CA_BUNDLE =  ./cafile.pem \n"
     ]
    },
    {
     "ename": "ERROR",
     "evalue": "Error in curl_fetch_memory(\"https://gitlab.gda.allianz\", h): SSL certificate problem: self signed certificate in certificate chain\n",
     "output_type": "error",
     "traceback": [
      "Error in curl_fetch_memory(\"https://gitlab.gda.allianz\", h): SSL certificate problem: self signed certificate in certificate chain\nTraceback:\n",
      "1. curl_fetch_memory(\"https://gitlab.gda.allianz\", h)"
     ]
    }
   ],
   "source": [
    "library(curl)\n",
    "h <- new_handle()\n",
    "\n",
    "# Bad\n",
    "# handle_setopt(h, ssl_verifypeer = 0);\n",
    "\n",
    "# Good\n",
    "# handle_setopt(h, cainfo = \"./cafile.pem\");\n",
    "\n",
    "# Best is to set env var\n",
    "cat(c(\"CURL_CA_BUNDLE = \", Sys.getenv(\"CURL_CA_BUNDLE\"), \"\\n\"))\n",
    "\n",
    "resp <- curl_fetch_memory(\"https://gitlab.gda.allianz\", h)\n",
    "cat(rawToChar(resp$content))"
   ]
  },
  {
   "cell_type": "code",
   "execution_count": 4,
   "metadata": {},
   "outputs": [
    {
     "ename": "ERROR",
     "evalue": "Error in curl::curl_fetch_memory(url, handle = handle): SSL certificate problem: self signed certificate in certificate chain\n",
     "output_type": "error",
     "traceback": [
      "Error in curl::curl_fetch_memory(url, handle = handle): SSL certificate problem: self signed certificate in certificate chain\nTraceback:\n",
      "1. httr::GET(\"https://gitlab.gda.allianz\")",
      "2. request_perform(req, hu$handle$handle)",
      "3. request_fetch(req$output, req$url, handle)",
      "4. request_fetch.write_memory(req$output, req$url, handle)",
      "5. curl::curl_fetch_memory(url, handle = handle)"
     ]
    }
   ],
   "source": [
    "# httr::set_config( httr::config( ssl_verifypeer = 0L ) )\n",
    "httr::GET(\"https://gitlab.gda.allianz\")"
   ]
  },
  {
   "cell_type": "code",
   "execution_count": 5,
   "metadata": {},
   "outputs": [
    {
     "name": "stdout",
     "output_type": "stream",
     "text": [
      "CURL_CA_BUNDLE=./cafile.pem\n",
      "CONDA_PROMPT_MODIFIER=(notebook) \n",
      "R_UNZIPCMD=/usr/bin/unzip\n",
      "USER=oleksii\n",
      "LANGUAGE=en_US.UTF-8\n",
      "HOSTNAME=0709d25a8b55\n",
      "LD_LIBRARY_PATH=/usr/lib/R/lib:/usr/lib/x86_64-linux-gnu:/usr/lib/jvm/default-java/lib/server\n",
      "APP_BASE=/srv\n",
      "SHLVL=0\n",
      "R_STRIP_SHARED_LIB=strip --strip-unneeded\n",
      "CONDA_SHLVL=1\n",
      "HOME=/home/oleksii\n",
      "NPM_DIR=/srv/npm\n",
      "R_LIBS_SITE=/usr/local/lib/R/site-library:/usr/lib/R/site-library:/usr/lib/R/library\n",
      "R_BROWSER=xdg-open\n",
      "PAGER=/usr/bin/pager\n",
      "SSL_CERT_FILE=./cafile.pem\n",
      "R_SYSTEM_ABI=linux,gcc,gxx,gfortran,gfortran\n",
      "_CE_M=\n",
      "KERNEL_PYTHON_PREFIX=/srv/conda/envs/notebook\n",
      "TAR=/bin/tar\n",
      "R_LIBS_USER=/srv/rlibs\n",
      "NPM_CONFIG_GLOBALCONFIG=/srv/npm/npmrc\n",
      "_CE_CONDA=\n",
      "R_ARCH=\n",
      "R_PAPERSIZE_USER=letter\n",
      "_R_CHECK_COMPILATION_FLAGS_KNOWN_=-Wformat -Werror=format-security -Wdate-time\n",
      "PATH=/srv/conda/envs/notebook/bin:/srv/conda/condabin:/home/oleksii/.local/bin:/home/oleksii/.local/bin:/srv/conda/envs/notebook/bin:/srv/conda/bin:/srv/npm/bin:/usr/lib/rstudio-server/bin:/usr/local/sbin:/usr/local/bin:/usr/sbin:/usr/bin:/sbin:/bin\n",
      "REQUESTS_CA_BUNDLE=./cafile.pem\n",
      "R_BZIPCMD=/bin/bzip2\n",
      "R_INCLUDE_DIR=/usr/share/R/include\n",
      "R_STRIP_STATIC_LIB=strip --strip-debug\n",
      "R_SESSION_TMPDIR=/tmp/Rtmpm7HGsc\n",
      "LANG=en_US.UTF-8\n",
      "R2D_ENTRYPOINT=/home/oleksii/start\n",
      "CONDA_PYTHON_EXE=/srv/conda/bin/python\n",
      "DEBIAN_FRONTEND=noninteractive\n",
      "R_GZIPCMD=/bin/gzip -n\n",
      "SED=/bin/sed\n",
      "SHELL=/bin/bash\n",
      "LN_S=ln -s\n",
      "R_PDFVIEWER=/usr/bin/xdg-open\n",
      "REPO_DIR=/home/oleksii\n",
      "CONDA_DEFAULT_ENV=notebook\n",
      "NB_PYTHON_PREFIX=/srv/conda/envs/notebook\n",
      "R_TEXI2DVICMD=/usr/bin/texi2dvi\n",
      "CONDA_DIR=/srv/conda\n",
      "R_HOME=/usr/lib/R\n",
      "R_PRINTCMD=/usr/bin/lpr\n",
      "R_DOC_DIR=/usr/share/R/doc\n",
      "LC_ALL=en_US.UTF-8\n",
      "R_SHARE_DIR=/usr/share/R/share\n",
      "PWD=/home/oleksii\n",
      "R_ZIPCMD=/usr/bin/zip\n",
      "CONDA_EXE=/srv/conda/bin/conda\n",
      "JPY_PARENT_PID=1\n",
      "R_PLATFORM=x86_64-pc-linux-gnu\n",
      "R_PAPERSIZE=letter\n",
      "CONDA_PREFIX=/srv/conda/envs/notebook\n",
      "MAKE=make\n",
      "R_RD4PDF=times,inconsolata,hyper\n",
      "EDITOR=vi\n"
     ]
    }
   ],
   "source": [
    "# Env\n",
    "res <- system(\"env\", intern=TRUE)\n",
    "cat(res, sep = \"\\n\")"
   ]
  },
  {
   "cell_type": "code",
   "execution_count": 6,
   "metadata": {},
   "outputs": [
    {
     "name": "stdout",
     "output_type": "stream",
     "text": [
      "CONNECTED(00000004)\n",
      "---\n",
      "Certificate chain\n",
      " 0 s:C = DE, O = Allianz, CN = gitlab.gda.allianz\n",
      "   i:C = DE, O = Allianz, CN = Allianz Infrastructure CA V\n",
      " 1 s:C = DE, O = Allianz, CN = Allianz Infrastructure CA V\n",
      "   i:C = DE, O = Allianz, CN = Allianz Root CA III\n",
      " 2 s:C = DE, O = Allianz, CN = Allianz Root CA III\n",
      "   i:C = DE, O = Allianz, CN = Allianz Root CA III\n",
      "---\n",
      "Server certificate\n",
      "-----BEGIN CERTIFICATE-----\n",
      "MIIENTCCAx2gAwIBAgIDASziMA0GCSqGSIb3DQEBCwUAMEUxCzAJBgNVBAYTAkRF\n",
      "MRAwDgYDVQQKDAdBbGxpYW56MSQwIgYDVQQDDBtBbGxpYW56IEluZnJhc3RydWN0\n",
      "dXJlIENBIFYwHhcNMTkxMDE1MDkxODA3WhcNMjExMDE0MTMwMDAwWjA8MQswCQYD\n",
      "VQQGEwJERTEQMA4GA1UECgwHQWxsaWFuejEbMBkGA1UEAwwSZ2l0bGFiLmdkYS5h\n",
      "bGxpYW56MIIBIjANBgkqhkiG9w0BAQEFAAOCAQ8AMIIBCgKCAQEAtVog1oozL1Hl\n",
      "7T5dcfLt5L374J6mmgmO3WhInZpf0/OvWQbHVrjV7Su8u20Lg681xilKg5lFEjon\n",
      "oW+8nKRHRlHxm+gHPl+pcUlqVY5/LbZUl50jysmgZhrYI1sjyRqkhW3zJdoZUrC2\n",
      "jNRN92WKMgitjhoP7b3N8d1IJXxPbi2cjr0LVEO6sGIgfxRoqHenpyAm4MvhzVxx\n",
      "fmeYwGJUKwchLtI6YLBmQZ3+RVwI/kwmL5ta6ezLYWYWu33wgRV+7DMZayy69Fcp\n",
      "iY2Mmikvwt8MaI2L8qeYiQxlsvVC3ZPcXrhJGniUGvpF5JXZCuoalLo9NxmbWdDi\n",
      "qkAaAkxaiwIDAQABo4IBNTCCATEwDwYDVR0TAQH/BAUwAwIBADAdBgNVHSUEFjAU\n",
      "BggrBgEFBQcDAQYIKwYBBQUHAwIwDgYDVR0PAQH/BAQDAgWgMEEGA1UdEQQ6MDiC\n",
      "EmdpdGxhYi5nZGEuYWxsaWFueoIRY3Jvd2QuZ2RhLmFsbGlhbnqCD0NlcnRyZXFJ\n",
      "ZC05NjU2MTA7BggrBgEFBQcBAQQvMC0wKwYIKwYBBQUHMAGGH2h0dHA6Ly9yb290\n",
      "Y2EuYWxsaWFuei5jb20vb2NzcC8wbwYDVR0fBGgwZjAxoC+gLYYraHR0cDovL3Jv\n",
      "b3RjYS5hbGxpYW56LmNvbS9jcmwvSW5mcmFDQS1WLmNybDAxoC+gLYYraHR0cDov\n",
      "L3Jvb3RjYS5pbmQuYWxsaWFuei9jcmwvSW5mcmFDQS1WLmNybDANBgkqhkiG9w0B\n",
      "AQsFAAOCAQEAhR9jId0pNQs+ucqkAaDGpuNAvJYqhNVjNIsQD1/x/mV6tYjDjpQH\n",
      "of8MySXXm3A1AJ/wmyzfCrbiL6t8qNUMhsfa7Wno44y9BkCWJsgjlJ1X+/D32xNU\n",
      "LH9xIUfiE//GVoFFwylCkB/oMcWN1ZS/CmiFrqIH3xSDv0wrgld2KK2I9EohW7tF\n",
      "b/J7uP9ALgWp6wCeLpPV2+ySFWvBNKC//a110yQXrWWDoj7P50NnNJUdltgJLFG5\n",
      "V3Jk6cSFD5+GfKo05YQRQXFmpTI00DvvSnZ+ThsV02Yk77VvRz40sYepuiJqJaGs\n",
      "vDdadTRQfaVx/0bEW6LBSUrh/os0UiTjMw==\n",
      "-----END CERTIFICATE-----\n",
      "subject=C = DE, O = Allianz, CN = gitlab.gda.allianz\n",
      "\n",
      "issuer=C = DE, O = Allianz, CN = Allianz Infrastructure CA V\n",
      "\n",
      "---\n",
      "No client certificate CA names sent\n",
      "Peer signing digest: SHA256\n",
      "Peer signature type: RSA\n",
      "Server Temp Key: ECDH, P-256, 256 bits\n",
      "---\n",
      "SSL handshake has read 4789 bytes and written 446 bytes\n",
      "Verification: OK\n",
      "---\n",
      "New, TLSv1.2, Cipher is ECDHE-RSA-AES256-GCM-SHA384\n",
      "Server public key is 2048 bit\n",
      "Secure Renegotiation IS supported\n",
      "Compression: NONE\n",
      "Expansion: NONE\n",
      "No ALPN negotiated\n",
      "SSL-Session:\n",
      "    Protocol  : TLSv1.2\n",
      "    Cipher    : ECDHE-RSA-AES256-GCM-SHA384\n",
      "    Session-ID: 5D8467C68A16093E43789E1CC51C7952BD67564B5FFCB5ABE2C933693F7CC4C7\n",
      "    Session-ID-ctx: \n",
      "    Master-Key: 58ED9ACACFA0A661503761937F62803BD85BDF15B287D91899C96E8161C149A1CA829E156B109A0732CE91F8C9EB7FC4\n",
      "    PSK identity: None\n",
      "    PSK identity hint: None\n",
      "    SRP username: None\n",
      "    TLS session ticket lifetime hint: 3600 (seconds)\n",
      "    TLS session ticket:\n",
      "    0000 - f0 9f d6 f9 c1 7d 2e 38-71 cf 7c c6 fd bc ba f4   .....}.8q.|.....\n",
      "    0010 - 13 4a 1e a5 b9 80 3d 67-9a 69 9d 65 29 12 d3 1f   .J....=g.i.e)...\n",
      "    0020 - 09 da 5b d3 c6 e4 c5 f1-54 0b be ca cd 72 50 7f   ..[.....T....rP.\n",
      "    0030 - 09 9f 5e d3 5b 2e 52 74-5e c9 9a 81 c9 be 71 83   ..^.[.Rt^.....q.\n",
      "    0040 - 1c 85 98 ec 76 ab c9 84-b9 43 6a a7 c2 0b df d4   ....v....Cj.....\n",
      "    0050 - 2c 0d e7 f6 47 c6 e7 55-1a cd 5c 07 57 d7 3f ea   ,...G..U..\\.W.?.\n",
      "    0060 - 7c e0 bc f7 53 36 4b a3-4e 66 5b 55 f6 a3 3b 30   |...S6K.Nf[U..;0\n",
      "    0070 - 2b 5a 10 1b f4 0d a6 66-61 08 54 0f d3 d1 aa 55   +Z.....fa.T....U\n",
      "    0080 - 16 48 32 af fd 5f 30 dc-32 9b 88 76 fc ad f7 d5   .H2.._0.2..v....\n",
      "    0090 - 94 6f 3f 0f 86 68 52 aa-c0 5c 1c 04 fa 4d fe e6   .o?..hR..\\...M..\n",
      "    00a0 - 86 41 a6 d5 fb 63 7f 2a-eb cb 78 48 25 84 fb 8e   .A...c.*..xH%...\n",
      "    00b0 - a3 d6 32 0e 7f fe 62 4a-57 f4 0b f7 f0 e3 21 72   ..2...bJW.....!r\n",
      "\n",
      "    Start Time: 1623945068\n",
      "    Timeout   : 7200 (sec)\n",
      "    Verify return code: 0 (ok)\n",
      "    Extended master secret: no\n",
      "---\n"
     ]
    }
   ],
   "source": [
    "# SSL\n",
    "res <- system(\"openssl s_client -connect gitlab.gda.allianz:443\", intern=TRUE)\n",
    "cat(res, sep = \"\\n\")"
   ]
  },
  {
   "cell_type": "code",
   "execution_count": 10,
   "metadata": {},
   "outputs": [
    {
     "name": "stdout",
     "output_type": "stream",
     "text": [
      "OPENSSLDIR: \"/srv/conda/envs/notebook/ssl\"\n"
     ]
    }
   ],
   "source": [
    "# SSL Dir\n",
    "res <- system(\"openssl version -d\", intern=TRUE)\n",
    "cat(res, sep = \"\\n\")"
   ]
  },
  {
   "cell_type": "code",
   "execution_count": 11,
   "metadata": {},
   "outputs": [
    {
     "name": "stdout",
     "output_type": "stream",
     "text": [
      "total 308\n",
      "drwxr-xr-x 3 oleksii oleksii   4096 Jun 17 13:59 .\n",
      "drwxr-xr-x 1 oleksii oleksii   4096 Jun 17 13:59 ..\n",
      "-rw-rw-r-- 1 oleksii oleksii 263774 Dec  5  2020 cacert.pem\n",
      "lrwxrwxrwx 1 oleksii oleksii     10 Jun 17 13:59 cert.pem -> cacert.pem\n",
      "-rw-rw-r-- 1 oleksii oleksii    412 Feb 16 19:13 ct_log_list.cnf\n",
      "-rw-rw-r-- 1 oleksii oleksii    412 Feb 16 19:13 ct_log_list.cnf.dist\n",
      "drwxr-xr-x 2 oleksii oleksii   4096 Jun 17 13:59 misc\n",
      "-rw-rw-r-- 1 oleksii oleksii  10909 Feb 16 19:13 openssl.cnf\n",
      "-rw-rw-r-- 1 oleksii oleksii  10909 Feb 16 19:13 openssl.cnf.dist\n"
     ]
    }
   ],
   "source": [
    "# SSL Dir\n",
    "res <- system(\"ls -la /srv/conda/envs/notebook/ssl\", intern=TRUE)\n",
    "cat(res, sep = \"\\n\")"
   ]
  },
  {
   "cell_type": "code",
   "execution_count": null,
   "metadata": {},
   "outputs": [],
   "source": []
  }
 ],
 "metadata": {
  "kernelspec": {
   "display_name": "R",
   "language": "R",
   "name": "ir"
  },
  "language_info": {
   "codemirror_mode": "r",
   "file_extension": ".r",
   "mimetype": "text/x-r-source",
   "name": "R",
   "pygments_lexer": "r",
   "version": "3.6.3"
  }
 },
 "nbformat": 4,
 "nbformat_minor": 2
}
