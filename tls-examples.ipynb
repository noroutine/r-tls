{
 "cells": [
  {
   "cell_type": "markdown",
   "metadata": {},
   "source": [
    "TLS Examples"
   ]
  },
  {
   "cell_type": "code",
   "execution_count": null,
   "metadata": {},
   "outputs": [],
   "source": [
    "h <- curl::new_handle()\n",
    "\n",
    "# Bad\n",
    "# handle_setopt(h, ssl_verifypeer = 0);\n",
    "\n",
    "# Good\n",
    "cat(c(\"CURL_CA_BUNDLE =\", Sys.getenv(\"CURL_CA_BUNDLE\"), \"\\n\"));\n",
    "curl::handle_setopt(h, cainfo = Sys.getenv(\"CURL_CA_BUNDLE\"));\n",
    "\n",
    "resp <- curl::curl_fetch_memory(\"https://git.nrtn.dev\", h)\n",
    "cat(rawToChar(resp$content))"
   ]
  },
  {
   "cell_type": "code",
   "execution_count": null,
   "metadata": {},
   "outputs": [],
   "source": [
    "# Bad\n",
    "# httr::set_config( httr::config( ssl_verifypeer = 0L ) )\n",
    "\n",
    "# Good\n",
    "httr::set_config(httr::config(cainfo = Sys.getenv(\"CURL_CA_BUNDLE\")))\n",
    "\n",
    "httr::GET(\"https://git.nrtn.dev\")"
   ]
  },
  {
   "cell_type": "code",
   "execution_count": null,
   "metadata": {},
   "outputs": [],
   "source": [
    "# Env\n",
    "res <- system(\"env\", intern=TRUE)\n",
    "cat(res, sep = \"\\n\")"
   ]
  },
  {
   "cell_type": "code",
   "execution_count": null,
   "metadata": {},
   "outputs": [],
   "source": [
    "# SSL\n",
    "res <- system(\"openssl s_client -connect git.nrtn.dev:443\", intern=TRUE)\n",
    "cat(res, sep = \"\\n\")"
   ]
  },
  {
   "cell_type": "code",
   "execution_count": null,
   "metadata": {},
   "outputs": [],
   "source": [
    "# SSL Dir\n",
    "res <- system(\"openssl version -d\", intern=TRUE)\n",
    "cat(res, sep = \"\\n\")\n",
    "\n",
    "res <- system(\"ls -la /srv/conda/envs/notebook/ssl\", intern=TRUE)\n",
    "cat(res, sep = \"\\n\")"
   ]
  }
 ],
 "metadata": {
  "kernelspec": {
   "display_name": "R",
   "language": "R",
   "name": "ir"
  },
  "language_info": {
   "codemirror_mode": "r",
   "file_extension": ".r",
   "mimetype": "text/x-r-source",
   "name": "R",
   "pygments_lexer": "r",
   "version": "3.6.3"
  }
 },
 "nbformat": 4,
 "nbformat_minor": 2
}
